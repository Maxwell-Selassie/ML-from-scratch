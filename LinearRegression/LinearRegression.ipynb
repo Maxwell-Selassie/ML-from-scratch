{
 "cells": [
  {
   "cell_type": "code",
   "execution_count": 17,
   "id": "ef385462",
   "metadata": {},
   "outputs": [],
   "source": [
    "import numpy as np\n",
    "import pandas as pd\n",
    "from typing import Tuple,Any"
   ]
  },
  {
   "cell_type": "code",
   "execution_count": 18,
   "id": "db9cf541",
   "metadata": {},
   "outputs": [],
   "source": [
    "def initialize_wb(X: pd.DataFrame) -> Tuple:\n",
    "    '''Initialize the weights and biases\n",
    "    \n",
    "    Args:\n",
    "        X : DataFrame to be modelled\n",
    "        \n",
    "    Returns: \n",
    "        Weight (w) : Initialized weights\n",
    "        Bias (b) : Initialized bias    \n",
    "    '''\n",
    "    if X.empty:\n",
    "        print('❌The dataFrame is empty')\n",
    "        raise ValueError('✖️The dataFrame is empty')\n",
    "    \n",
    "    _, n_features = X.shape\n",
    "    w = np.zeros(n_features)\n",
    "    b = 0.0\n",
    "    print(f'✅Weights and biases initialized successfully')\n",
    "    return w, b"
   ]
  },
  {
   "cell_type": "code",
   "execution_count": null,
   "id": "98f07249",
   "metadata": {},
   "outputs": [],
   "source": [
    "def forward_pass(X: pd.DataFrame,y: pd.Series) -> pd.DataFrame:\n",
    "    '''Perform the first forward pass(Train the model on the initialized weights and bias)\n",
    "    \n",
    "    Args:\n",
    "        X : Dataframe to be modelled\n",
    "        y : Target Ouptut feature\n",
    "    \n",
    "    Returns:\n",
    "        Dataframe containing predicted values\n",
    "    '''\n",
    "    if y.empty:\n",
    "        print('❌The dataFrame is empty')\n",
    "        raise ValueError(f'✖️The dataFrame is empty')\n",
    "\n",
    "    w, b = initialize_wb(X)\n",
    "    y_pred = np.dot(X, w) + b\n",
    "    return y_pred"
   ]
  },
  {
   "cell_type": "code",
   "execution_count": null,
   "id": "20223fbe",
   "metadata": {},
   "outputs": [],
   "source": [
    "def gradient(X: pd.DataFrame, y: pd.DataFrame | pd.DataFrame) -> Any:\n",
    "    '''Compute Gradient\n",
    "    \n",
    "    Args:\n",
    "        X: dataframe to be modelled\n",
    "        y: Target output feature\n",
    "\n",
    "        epochs: number of iterations\n",
    "    '''\n",
    "    n_samples, _ = X.shape\n",
    "    w, b = initialize_wb(X)\n",
    "\n",
    "    y_pred = forward_pass(X,y)\n",
    "    error = y_pred - y\n",
    "\n",
    "    d_dw = (1 / n_samples) *  np.dot(X.T, error)\n",
    "    d_db = (1 / n_samples) * np.sum(error)\n",
    "\n",
    "    return d_dw, d_db"
   ]
  },
  {
   "cell_type": "code",
   "execution_count": null,
   "id": "4123904a",
   "metadata": {},
   "outputs": [],
   "source": [
    "def gradient_descent(X: pd.DataFrame, y= pd.DataFrame | pd.Series, lr : float = 0.04) -> Any:\n",
    "    '''Perform gradient descent\n",
    "    \n",
    "    Args:\n",
    "        lr: Learning rate to regulate learning\n",
    "    '''\n",
    "    d_dw, d_db = gradient(X,y)\n",
    "    \n",
    "    w -= lr *d_dw\n",
    "    b -= lr * d_db\n",
    "    return w,b"
   ]
  },
  {
   "cell_type": "code",
   "execution_count": null,
   "id": "ce814f9f",
   "metadata": {},
   "outputs": [],
   "source": [
    "def linear_regression_algo(X: pd.DataFrame, y: pd.DataFrame | pd.Series, lr: float = 0.04, epochs: int = 2000) -> Any:\n",
    "    '''Integrate all functions together'''\n",
    "    for epoch in epochs:\n",
    "        y_pred = forward_pass(X,y) # Trains on initial w and b\n",
    "        d_dw, d_db = gradient(X,y) # Derivative of cost function\n",
    "        w,b = gradient_descent(X,y,lr) # Train and update w and b\n",
    "\n",
    "    print(w)\n",
    "    print(b)\n"
   ]
  }
 ],
 "metadata": {
  "kernelspec": {
   "display_name": "Python 3",
   "language": "python",
   "name": "python3"
  },
  "language_info": {
   "codemirror_mode": {
    "name": "ipython",
    "version": 3
   },
   "file_extension": ".py",
   "mimetype": "text/x-python",
   "name": "python",
   "nbconvert_exporter": "python",
   "pygments_lexer": "ipython3",
   "version": "3.11.9"
  }
 },
 "nbformat": 4,
 "nbformat_minor": 5
}
